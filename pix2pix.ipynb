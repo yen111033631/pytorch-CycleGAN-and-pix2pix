{
 "cells": [
  {
   "cell_type": "markdown",
   "metadata": {
    "colab_type": "text",
    "id": "view-in-github"
   },
   "source": [
    "<a href=\"https://colab.research.google.com/github/bkkaggle/pytorch-CycleGAN-and-pix2pix/blob/master/pix2pix.ipynb\" target=\"_parent\"><img src=\"https://colab.research.google.com/assets/colab-badge.svg\" alt=\"Open In Colab\"/></a>"
   ]
  },
  {
   "cell_type": "markdown",
   "metadata": {
    "colab_type": "text",
    "id": "7wNjDKdQy35h"
   },
   "source": [
    "# Install"
   ]
  },
  {
   "cell_type": "code",
   "execution_count": null,
   "metadata": {
    "colab": {},
    "colab_type": "code",
    "id": "TRm-USlsHgEV"
   },
   "outputs": [],
   "source": [
    "!git clone https://github.com/junyanz/pytorch-CycleGAN-and-pix2pix"
   ]
  },
  {
   "cell_type": "code",
   "execution_count": 1,
   "metadata": {
    "colab": {},
    "colab_type": "code",
    "id": "Pt3igws3eiVp"
   },
   "outputs": [
    {
     "ename": "FileNotFoundError",
     "evalue": "[Errno 2] No such file or directory: 'pytorch-CycleGAN-and-pix2pix/'",
     "output_type": "error",
     "traceback": [
      "\u001b[0;31m---------------------------------------------------------------------------\u001b[0m",
      "\u001b[0;31mFileNotFoundError\u001b[0m                         Traceback (most recent call last)",
      "Cell \u001b[0;32mIn[1], line 2\u001b[0m\n\u001b[1;32m      1\u001b[0m \u001b[38;5;28;01mimport\u001b[39;00m \u001b[38;5;21;01mos\u001b[39;00m\n\u001b[0;32m----> 2\u001b[0m \u001b[43mos\u001b[49m\u001b[38;5;241;43m.\u001b[39;49m\u001b[43mchdir\u001b[49m\u001b[43m(\u001b[49m\u001b[38;5;124;43m'\u001b[39;49m\u001b[38;5;124;43mpytorch-CycleGAN-and-pix2pix/\u001b[39;49m\u001b[38;5;124;43m'\u001b[39;49m\u001b[43m)\u001b[49m\n",
      "\u001b[0;31mFileNotFoundError\u001b[0m: [Errno 2] No such file or directory: 'pytorch-CycleGAN-and-pix2pix/'"
     ]
    }
   ],
   "source": [
    "import os\n",
    "os.chdir('pytorch-CycleGAN-and-pix2pix/')"
   ]
  },
  {
   "cell_type": "code",
   "execution_count": 2,
   "metadata": {
    "colab": {},
    "colab_type": "code",
    "id": "z1EySlOXwwoa"
   },
   "outputs": [
    {
     "name": "stdout",
     "output_type": "stream",
     "text": [
      "Requirement already satisfied: torch>=1.4.0 in /home/neaf2080/.pyenv/versions/3.8.18/envs/general_env/lib/python3.8/site-packages (from -r requirements.txt (line 1)) (1.13.1)\n",
      "Requirement already satisfied: torchvision>=0.5.0 in /home/neaf2080/.pyenv/versions/3.8.18/envs/general_env/lib/python3.8/site-packages (from -r requirements.txt (line 2)) (0.14.1)\n",
      "Requirement already satisfied: dominate>=2.4.0 in /home/neaf2080/.pyenv/versions/3.8.18/envs/general_env/lib/python3.8/site-packages (from -r requirements.txt (line 3)) (2.9.1)\n",
      "Requirement already satisfied: visdom>=0.1.8.8 in /home/neaf2080/.pyenv/versions/3.8.18/envs/general_env/lib/python3.8/site-packages (from -r requirements.txt (line 4)) (0.2.4)\n",
      "Requirement already satisfied: wandb in /home/neaf2080/.pyenv/versions/3.8.18/envs/general_env/lib/python3.8/site-packages (from -r requirements.txt (line 5)) (0.16.6)\n",
      "Requirement already satisfied: nvidia-cuda-runtime-cu11==11.7.99 in /home/neaf2080/.pyenv/versions/3.8.18/envs/general_env/lib/python3.8/site-packages (from torch>=1.4.0->-r requirements.txt (line 1)) (11.7.99)\n",
      "Requirement already satisfied: nvidia-cuda-nvrtc-cu11==11.7.99 in /home/neaf2080/.pyenv/versions/3.8.18/envs/general_env/lib/python3.8/site-packages (from torch>=1.4.0->-r requirements.txt (line 1)) (11.7.99)\n",
      "Requirement already satisfied: nvidia-cublas-cu11==11.10.3.66 in /home/neaf2080/.pyenv/versions/3.8.18/envs/general_env/lib/python3.8/site-packages (from torch>=1.4.0->-r requirements.txt (line 1)) (11.10.3.66)\n",
      "Requirement already satisfied: nvidia-cudnn-cu11==8.5.0.96 in /home/neaf2080/.pyenv/versions/3.8.18/envs/general_env/lib/python3.8/site-packages (from torch>=1.4.0->-r requirements.txt (line 1)) (8.5.0.96)\n",
      "Requirement already satisfied: typing-extensions in /home/neaf2080/.pyenv/versions/3.8.18/envs/general_env/lib/python3.8/site-packages (from torch>=1.4.0->-r requirements.txt (line 1)) (4.4.0)\n",
      "Requirement already satisfied: setuptools in /home/neaf2080/.pyenv/versions/3.8.18/envs/general_env/lib/python3.8/site-packages (from nvidia-cublas-cu11==11.10.3.66->torch>=1.4.0->-r requirements.txt (line 1)) (56.0.0)\n",
      "Requirement already satisfied: wheel in /home/neaf2080/.pyenv/versions/3.8.18/envs/general_env/lib/python3.8/site-packages (from nvidia-cublas-cu11==11.10.3.66->torch>=1.4.0->-r requirements.txt (line 1)) (0.41.2)\n",
      "Requirement already satisfied: pillow!=8.3.*,>=5.3.0 in /home/neaf2080/.pyenv/versions/3.8.18/envs/general_env/lib/python3.8/site-packages (from torchvision>=0.5.0->-r requirements.txt (line 2)) (9.4.0)\n",
      "Requirement already satisfied: requests in /home/neaf2080/.pyenv/versions/3.8.18/envs/general_env/lib/python3.8/site-packages (from torchvision>=0.5.0->-r requirements.txt (line 2)) (2.28.1)\n",
      "Requirement already satisfied: numpy in /home/neaf2080/.pyenv/versions/3.8.18/envs/general_env/lib/python3.8/site-packages (from torchvision>=0.5.0->-r requirements.txt (line 2)) (1.24.1)\n",
      "Requirement already satisfied: tornado in /home/neaf2080/.pyenv/versions/3.8.18/envs/general_env/lib/python3.8/site-packages (from visdom>=0.1.8.8->-r requirements.txt (line 4)) (6.2)\n",
      "Requirement already satisfied: networkx in /home/neaf2080/.pyenv/versions/3.8.18/envs/general_env/lib/python3.8/site-packages (from visdom>=0.1.8.8->-r requirements.txt (line 4)) (3.1)\n",
      "Requirement already satisfied: jsonpatch in /home/neaf2080/.pyenv/versions/3.8.18/envs/general_env/lib/python3.8/site-packages (from visdom>=0.1.8.8->-r requirements.txt (line 4)) (1.33)\n",
      "Requirement already satisfied: scipy in /home/neaf2080/.pyenv/versions/3.8.18/envs/general_env/lib/python3.8/site-packages (from visdom>=0.1.8.8->-r requirements.txt (line 4)) (1.10.0)\n",
      "Requirement already satisfied: websocket-client in /home/neaf2080/.pyenv/versions/3.8.18/envs/general_env/lib/python3.8/site-packages (from visdom>=0.1.8.8->-r requirements.txt (line 4)) (1.4.2)\n",
      "Requirement already satisfied: six in /home/neaf2080/.pyenv/versions/3.8.18/envs/general_env/lib/python3.8/site-packages (from visdom>=0.1.8.8->-r requirements.txt (line 4)) (1.16.0)\n",
      "Requirement already satisfied: PyYAML in /home/neaf2080/.pyenv/versions/3.8.18/envs/general_env/lib/python3.8/site-packages (from wandb->-r requirements.txt (line 5)) (6.0)\n",
      "Requirement already satisfied: Click!=8.0.0,>=7.1 in /home/neaf2080/.pyenv/versions/3.8.18/envs/general_env/lib/python3.8/site-packages (from wandb->-r requirements.txt (line 5)) (8.1.7)\n",
      "Requirement already satisfied: protobuf!=4.21.0,<5,>=3.12.0 in /home/neaf2080/.pyenv/versions/3.8.18/envs/general_env/lib/python3.8/site-packages (from wandb->-r requirements.txt (line 5)) (4.24.4)\n",
      "Requirement already satisfied: appdirs>=1.4.3 in /home/neaf2080/.pyenv/versions/3.8.18/envs/general_env/lib/python3.8/site-packages (from wandb->-r requirements.txt (line 5)) (1.4.4)\n",
      "Requirement already satisfied: setproctitle in /home/neaf2080/.pyenv/versions/3.8.18/envs/general_env/lib/python3.8/site-packages (from wandb->-r requirements.txt (line 5)) (1.3.3)\n",
      "Requirement already satisfied: GitPython!=3.1.29,>=1.0.0 in /home/neaf2080/.pyenv/versions/3.8.18/envs/general_env/lib/python3.8/site-packages (from wandb->-r requirements.txt (line 5)) (3.1.43)\n",
      "Requirement already satisfied: sentry-sdk>=1.0.0 in /home/neaf2080/.pyenv/versions/3.8.18/envs/general_env/lib/python3.8/site-packages (from wandb->-r requirements.txt (line 5)) (1.44.1)\n",
      "Requirement already satisfied: docker-pycreds>=0.4.0 in /home/neaf2080/.pyenv/versions/3.8.18/envs/general_env/lib/python3.8/site-packages (from wandb->-r requirements.txt (line 5)) (0.4.0)\n",
      "Requirement already satisfied: psutil>=5.0.0 in /home/neaf2080/.pyenv/versions/3.8.18/envs/general_env/lib/python3.8/site-packages (from wandb->-r requirements.txt (line 5)) (5.9.4)\n",
      "Requirement already satisfied: gitdb<5,>=4.0.1 in /home/neaf2080/.pyenv/versions/3.8.18/envs/general_env/lib/python3.8/site-packages (from GitPython!=3.1.29,>=1.0.0->wandb->-r requirements.txt (line 5)) (4.0.11)\n",
      "Requirement already satisfied: charset-normalizer<3,>=2 in /home/neaf2080/.pyenv/versions/3.8.18/envs/general_env/lib/python3.8/site-packages (from requests->torchvision>=0.5.0->-r requirements.txt (line 2)) (2.1.1)\n",
      "Requirement already satisfied: idna<4,>=2.5 in /home/neaf2080/.pyenv/versions/3.8.18/envs/general_env/lib/python3.8/site-packages (from requests->torchvision>=0.5.0->-r requirements.txt (line 2)) (3.4)\n",
      "Requirement already satisfied: urllib3<1.27,>=1.21.1 in /home/neaf2080/.pyenv/versions/3.8.18/envs/general_env/lib/python3.8/site-packages (from requests->torchvision>=0.5.0->-r requirements.txt (line 2)) (1.26.13)\n",
      "Requirement already satisfied: certifi>=2017.4.17 in /home/neaf2080/.pyenv/versions/3.8.18/envs/general_env/lib/python3.8/site-packages (from requests->torchvision>=0.5.0->-r requirements.txt (line 2)) (2022.12.7)\n",
      "Requirement already satisfied: jsonpointer>=1.9 in /home/neaf2080/.pyenv/versions/3.8.18/envs/general_env/lib/python3.8/site-packages (from jsonpatch->visdom>=0.1.8.8->-r requirements.txt (line 4)) (2.3)\n",
      "Requirement already satisfied: smmap<6,>=3.0.1 in /home/neaf2080/.pyenv/versions/3.8.18/envs/general_env/lib/python3.8/site-packages (from gitdb<5,>=4.0.1->GitPython!=3.1.29,>=1.0.0->wandb->-r requirements.txt (line 5)) (5.0.1)\n",
      "\n",
      "\u001b[1m[\u001b[0m\u001b[34;49mnotice\u001b[0m\u001b[1;39;49m]\u001b[0m\u001b[39;49m A new release of pip is available: \u001b[0m\u001b[31;49m23.0.1\u001b[0m\u001b[39;49m -> \u001b[0m\u001b[32;49m24.0\u001b[0m\n",
      "\u001b[1m[\u001b[0m\u001b[34;49mnotice\u001b[0m\u001b[1;39;49m]\u001b[0m\u001b[39;49m To update, run: \u001b[0m\u001b[32;49mpip install --upgrade pip\u001b[0m\n"
     ]
    }
   ],
   "source": [
    "!pip install -r requirements.txt"
   ]
  },
  {
   "cell_type": "markdown",
   "metadata": {
    "colab_type": "text",
    "id": "8daqlgVhw29P"
   },
   "source": [
    "# Datasets\n",
    "\n",
    "Download one of the official datasets with:\n",
    "\n",
    "-   `bash ./datasets/download_pix2pix_dataset.sh [cityscapes, night2day, edges2handbags, edges2shoes, facades, maps]`\n",
    "\n",
    "Or use your own dataset by creating the appropriate folders and adding in the images. Follow the instructions [here](https://github.com/junyanz/pytorch-CycleGAN-and-pix2pix/blob/master/docs/datasets.md#pix2pix-datasets)."
   ]
  },
  {
   "cell_type": "code",
   "execution_count": null,
   "metadata": {
    "colab": {},
    "colab_type": "code",
    "id": "vrdOettJxaCc"
   },
   "outputs": [],
   "source": [
    "!bash ./datasets/download_pix2pix_dataset.sh facades"
   ]
  },
  {
   "cell_type": "markdown",
   "metadata": {
    "colab_type": "text",
    "id": "gdUz4116xhpm"
   },
   "source": [
    "# Pretrained models\n",
    "\n",
    "Download one of the official pretrained models with:\n",
    "\n",
    "-   `bash ./scripts/download_pix2pix_model.sh [edges2shoes, sat2map, map2sat, facades_label2photo, and day2night]`\n",
    "\n",
    "Or add your own pretrained model to `./checkpoints/{NAME}_pretrained/latest_net_G.pt`"
   ]
  },
  {
   "cell_type": "code",
   "execution_count": null,
   "metadata": {
    "colab": {},
    "colab_type": "code",
    "id": "GC2DEP4M0OsS"
   },
   "outputs": [],
   "source": [
    "!bash ./scripts/download_pix2pix_model.sh facades_label2photo"
   ]
  },
  {
   "cell_type": "markdown",
   "metadata": {
    "colab_type": "text",
    "id": "yFw1kDQBx3LN"
   },
   "source": [
    "# Training\n",
    "\n",
    "-   `python train.py --dataroot ./datasets/facades --name facades_pix2pix --model pix2pix --direction BtoA`\n",
    "\n",
    "Change the `--dataroot` and `--name` to your own dataset's path and model's name. Use `--gpu_ids 0,1,..` to train on multiple GPUs and `--batch_size` to change the batch size. Add `--direction BtoA` if you want to train a model to transfrom from class B to A."
   ]
  },
  {
   "cell_type": "code",
   "execution_count": null,
   "metadata": {
    "colab": {},
    "colab_type": "code",
    "id": "0sp7TCT2x9dB"
   },
   "outputs": [],
   "source": [
    "!python train.py --dataroot ./datasets/facades --name facades_pix2pix --model pix2pix --direction BtoA --display_id -1"
   ]
  },
  {
   "cell_type": "markdown",
   "metadata": {
    "colab_type": "text",
    "id": "9UkcaFZiyASl"
   },
   "source": [
    "# Testing\n",
    "\n",
    "-   `python test.py --dataroot ./datasets/facades --direction BtoA --model pix2pix --name facades_pix2pix`\n",
    "\n",
    "Change the `--dataroot`, `--name`, and `--direction` to be consistent with your trained model's configuration and how you want to transform images.\n",
    "\n",
    "> from https://github.com/junyanz/pytorch-CycleGAN-and-pix2pix:\n",
    "> Note that we specified --direction BtoA as Facades dataset's A to B direction is photos to labels.\n",
    "\n",
    "> If you would like to apply a pre-trained model to a collection of input images (rather than image pairs), please use --model test option. See ./scripts/test_single.sh for how to apply a model to Facade label maps (stored in the directory facades/testB).\n",
    "\n",
    "> See a list of currently available models at ./scripts/download_pix2pix_model.sh"
   ]
  },
  {
   "cell_type": "code",
   "execution_count": null,
   "metadata": {
    "colab": {},
    "colab_type": "code",
    "id": "mey7o6j-0368"
   },
   "outputs": [],
   "source": [
    "!ls checkpoints/"
   ]
  },
  {
   "cell_type": "code",
   "execution_count": null,
   "metadata": {
    "colab": {},
    "colab_type": "code",
    "id": "uCsKkEq0yGh0"
   },
   "outputs": [],
   "source": [
    "!python test.py --dataroot ./datasets/facades --direction BtoA --model pix2pix --name facades_label2photo_pretrained --use_wandb"
   ]
  },
  {
   "cell_type": "markdown",
   "metadata": {
    "colab_type": "text",
    "id": "OzSKIPUByfiN"
   },
   "source": [
    "# Visualize"
   ]
  },
  {
   "cell_type": "code",
   "execution_count": null,
   "metadata": {
    "colab": {},
    "colab_type": "code",
    "id": "9Mgg8raPyizq"
   },
   "outputs": [],
   "source": [
    "import matplotlib.pyplot as plt\n",
    "\n",
    "img = plt.imread('./results/facades_label2photo_pretrained/test_latest/images/100_fake_B.png')\n",
    "plt.imshow(img)"
   ]
  },
  {
   "cell_type": "code",
   "execution_count": null,
   "metadata": {
    "colab": {},
    "colab_type": "code",
    "id": "0G3oVH9DyqLQ"
   },
   "outputs": [],
   "source": [
    "img = plt.imread('./results/facades_label2photo_pretrained/test_latest/images/100_real_A.png')\n",
    "plt.imshow(img)"
   ]
  },
  {
   "cell_type": "code",
   "execution_count": null,
   "metadata": {
    "colab": {},
    "colab_type": "code",
    "id": "ErK5OC1j1LH4"
   },
   "outputs": [],
   "source": [
    "img = plt.imread('./results/facades_label2photo_pretrained/test_latest/images/100_real_B.png')\n",
    "plt.imshow(img)"
   ]
  }
 ],
 "metadata": {
  "accelerator": "GPU",
  "colab": {
   "collapsed_sections": [],
   "include_colab_link": true,
   "name": "pix2pix",
   "provenance": []
  },
  "environment": {
   "name": "tf2-gpu.2-3.m74",
   "type": "gcloud",
   "uri": "gcr.io/deeplearning-platform-release/tf2-gpu.2-3:m74"
  },
  "kernelspec": {
   "display_name": "Python 3",
   "language": "python",
   "name": "python3"
  },
  "language_info": {
   "codemirror_mode": {
    "name": "ipython",
    "version": 3
   },
   "file_extension": ".py",
   "mimetype": "text/x-python",
   "name": "python",
   "nbconvert_exporter": "python",
   "pygments_lexer": "ipython3",
   "version": "3.8.18"
  }
 },
 "nbformat": 4,
 "nbformat_minor": 4
}
