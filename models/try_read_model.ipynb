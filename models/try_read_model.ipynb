{
 "cells": [
  {
   "cell_type": "code",
   "execution_count": 5,
   "metadata": {},
   "outputs": [],
   "source": [
    "import torch \n",
    "import gymnasium as gym"
   ]
  },
  {
   "cell_type": "code",
   "execution_count": 2,
   "metadata": {},
   "outputs": [],
   "source": [
    "load_model = torch.load(\"/home/yen/code/yen/pytorch-CycleGAN-and-pix2pix/RL_model/DQN_gray_256/May20_H22_M33_S14_cube_gray_neaf-3090_001/good_model.pt\")"
   ]
  },
  {
   "cell_type": "code",
   "execution_count": 3,
   "metadata": {},
   "outputs": [
    {
     "data": {
      "text/plain": [
       "DQN(\n",
       "  (cnn): Sequential(\n",
       "    (0): Conv2d(1, 32, kernel_size=(8, 8), stride=(4, 4))\n",
       "    (1): ReLU()\n",
       "    (2): Conv2d(32, 64, kernel_size=(4, 4), stride=(2, 2))\n",
       "    (3): ReLU()\n",
       "    (4): Conv2d(64, 64, kernel_size=(3, 3), stride=(1, 1))\n",
       "    (5): ReLU()\n",
       "    (6): Flatten(start_dim=1, end_dim=-1)\n",
       "  )\n",
       "  (mlp): Sequential(\n",
       "    (0): Linear(in_features=50176, out_features=512, bias=True)\n",
       "    (1): ReLU()\n",
       "  )\n",
       "  (one_dimension): Linear(in_features=512, out_features=78, bias=True)\n",
       ")"
      ]
     },
     "execution_count": 3,
     "metadata": {},
     "output_type": "execute_result"
    }
   ],
   "source": [
    "load_model"
   ]
  },
  {
   "cell_type": "code",
   "execution_count": 12,
   "metadata": {},
   "outputs": [],
   "source": [
    "ob_space = gym.spaces.Box(low=0, high=1, shape=(84, 84, 3))"
   ]
  },
  {
   "cell_type": "code",
   "execution_count": 13,
   "metadata": {},
   "outputs": [
    {
     "data": {
      "text/plain": [
       "array([[[0.70346117, 0.9685241 , 0.11502644],\n",
       "        [0.9035882 , 0.99762464, 0.2919256 ],\n",
       "        [0.63836676, 0.5020221 , 0.5515488 ],\n",
       "        ...,\n",
       "        [0.62136984, 0.9190961 , 0.51436716],\n",
       "        [0.8585636 , 0.3108996 , 0.05726953],\n",
       "        [0.8125754 , 0.76401293, 0.86946   ]],\n",
       "\n",
       "       [[0.5270546 , 0.21326573, 0.6284804 ],\n",
       "        [0.93048173, 0.7225761 , 0.7552889 ],\n",
       "        [0.89611554, 0.8740418 , 0.43755502],\n",
       "        ...,\n",
       "        [0.8315381 , 0.38391897, 0.45075718],\n",
       "        [0.6890634 , 0.11166495, 0.58678675],\n",
       "        [0.03336462, 0.8999933 , 0.44632226]],\n",
       "\n",
       "       [[0.20711294, 0.37418693, 0.85235894],\n",
       "        [0.95345473, 0.05592107, 0.29905558],\n",
       "        [0.62066317, 0.28559282, 0.37736803],\n",
       "        ...,\n",
       "        [0.494893  , 0.54876024, 0.4538631 ],\n",
       "        [0.34843013, 0.89149475, 0.39821994],\n",
       "        [0.6981581 , 0.9120903 , 0.0030077 ]],\n",
       "\n",
       "       ...,\n",
       "\n",
       "       [[0.43517804, 0.6784495 , 0.5004793 ],\n",
       "        [0.94067   , 0.59850377, 0.28070998],\n",
       "        [0.06688095, 0.01046734, 0.9772067 ],\n",
       "        ...,\n",
       "        [0.4375899 , 0.46150103, 0.9222862 ],\n",
       "        [0.19373286, 0.9759558 , 0.88639224],\n",
       "        [0.5190314 , 0.5998086 , 0.34090397]],\n",
       "\n",
       "       [[0.16165021, 0.44985503, 0.91066694],\n",
       "        [0.77977705, 0.5719772 , 0.18738267],\n",
       "        [0.9077713 , 0.4268598 , 0.8791081 ],\n",
       "        ...,\n",
       "        [0.40299886, 0.215704  , 0.8601179 ],\n",
       "        [0.14325489, 0.356007  , 0.13968986],\n",
       "        [0.94969076, 0.136214  , 0.3276031 ]],\n",
       "\n",
       "       [[0.3068589 , 0.14991407, 0.33794773],\n",
       "        [0.9622036 , 0.62844545, 0.7229508 ],\n",
       "        [0.23835272, 0.13157925, 0.8844135 ],\n",
       "        ...,\n",
       "        [0.07446577, 0.10526928, 0.13965611],\n",
       "        [0.91477746, 0.53009546, 0.6617354 ],\n",
       "        [0.5261638 , 0.12472449, 0.63652825]]], dtype=float32)"
      ]
     },
     "execution_count": 13,
     "metadata": {},
     "output_type": "execute_result"
    }
   ],
   "source": [
    "ob_space.sample()"
   ]
  },
  {
   "cell_type": "code",
   "execution_count": null,
   "metadata": {},
   "outputs": [],
   "source": []
  }
 ],
 "metadata": {
  "kernelspec": {
   "display_name": "webots_env",
   "language": "python",
   "name": "python3"
  },
  "language_info": {
   "codemirror_mode": {
    "name": "ipython",
    "version": 3
   },
   "file_extension": ".py",
   "mimetype": "text/x-python",
   "name": "python",
   "nbconvert_exporter": "python",
   "pygments_lexer": "ipython3",
   "version": "3.8.18"
  }
 },
 "nbformat": 4,
 "nbformat_minor": 2
}
