{
 "cells": [
  {
   "cell_type": "code",
   "execution_count": 8,
   "metadata": {},
   "outputs": [],
   "source": [
    "import os\n",
    "from options.test_options import TestOptions\n",
    "from data import create_dataset\n",
    "from models import create_model, networks\n",
    "from util.visualizer import save_images\n",
    "from util import html"
   ]
  },
  {
   "cell_type": "code",
   "execution_count": 2,
   "metadata": {},
   "outputs": [],
   "source": [
    "import torch\n",
    "\n",
    "# torch.cuda.is_available()\n",
    "model_G_dir = \"/home/yen/code/yen/pytorch-CycleGAN-and-pix2pix/checkpoints/new_data_0620_DQN0_netD1_origin/latest_net_G.pth\"\n",
    "\n",
    "model = torch.load(model_G_dir)\n"
   ]
  },
  {
   "cell_type": "code",
   "execution_count": 10,
   "metadata": {},
   "outputs": [
    {
     "name": "stdout",
     "output_type": "stream",
     "text": [
      "initialize network with normal\n"
     ]
    },
    {
     "ename": "AttributeError",
     "evalue": "'DataParallel' object has no attribute 'load_networks'",
     "output_type": "error",
     "traceback": [
      "\u001b[0;31m---------------------------------------------------------------------------\u001b[0m",
      "\u001b[0;31mAttributeError\u001b[0m                            Traceback (most recent call last)",
      "Cell \u001b[0;32mIn[10], line 14\u001b[0m\n\u001b[1;32m      9\u001b[0m gpu_ids \u001b[38;5;241m=\u001b[39m [\u001b[38;5;241m0\u001b[39m]\n\u001b[1;32m     12\u001b[0m net_G \u001b[38;5;241m=\u001b[39m networks\u001b[38;5;241m.\u001b[39mdefine_G(input_nc, output_nc, ngf, netG, norm,\n\u001b[1;32m     13\u001b[0m                                       \u001b[38;5;129;01mnot\u001b[39;00m no_dropout, init_type, init_gain, gpu_ids)\n\u001b[0;32m---> 14\u001b[0m \u001b[43mnet_G\u001b[49m\u001b[38;5;241;43m.\u001b[39;49m\u001b[43mload_networks\u001b[49m(\u001b[38;5;124m\"\u001b[39m\u001b[38;5;124mlatest\u001b[39m\u001b[38;5;124m\"\u001b[39m)\n",
      "File \u001b[0;32m~/.pyenv/versions/3.8.18/envs/general_env/lib/python3.8/site-packages/torch/nn/modules/module.py:1709\u001b[0m, in \u001b[0;36mModule.__getattr__\u001b[0;34m(self, name)\u001b[0m\n\u001b[1;32m   1707\u001b[0m     \u001b[38;5;28;01mif\u001b[39;00m name \u001b[38;5;129;01min\u001b[39;00m modules:\n\u001b[1;32m   1708\u001b[0m         \u001b[38;5;28;01mreturn\u001b[39;00m modules[name]\n\u001b[0;32m-> 1709\u001b[0m \u001b[38;5;28;01mraise\u001b[39;00m \u001b[38;5;167;01mAttributeError\u001b[39;00m(\u001b[38;5;124mf\u001b[39m\u001b[38;5;124m\"\u001b[39m\u001b[38;5;124m'\u001b[39m\u001b[38;5;132;01m{\u001b[39;00m\u001b[38;5;28mtype\u001b[39m(\u001b[38;5;28mself\u001b[39m)\u001b[38;5;241m.\u001b[39m\u001b[38;5;18m__name__\u001b[39m\u001b[38;5;132;01m}\u001b[39;00m\u001b[38;5;124m'\u001b[39m\u001b[38;5;124m object has no attribute \u001b[39m\u001b[38;5;124m'\u001b[39m\u001b[38;5;132;01m{\u001b[39;00mname\u001b[38;5;132;01m}\u001b[39;00m\u001b[38;5;124m'\u001b[39m\u001b[38;5;124m\"\u001b[39m)\n",
      "\u001b[0;31mAttributeError\u001b[0m: 'DataParallel' object has no attribute 'load_networks'"
     ]
    }
   ],
   "source": [
    "input_nc = 1\n",
    "output_nc = 1\n",
    "ngf = 64\n",
    "netG = \"resnet_9blocks\"\n",
    "norm = \"instance\"\n",
    "no_dropout = False\n",
    "init_type = \"normal\"\n",
    "init_gain = 0.02\n",
    "gpu_ids = [0]\n"
   ]
  },
  {
   "cell_type": "code",
   "execution_count": 7,
   "metadata": {},
   "outputs": [
    {
     "ename": "RuntimeError",
     "evalue": "Error(s) in loading state_dict for ResnetGenerator:\n\tUnexpected running stats buffer(s) \"model.2.running_mean\" and \"model.2.running_var\" for InstanceNorm2d with track_running_stats=False. If state_dict is a checkpoint saved before 0.4.0, this may be expected because InstanceNorm2d does not track running stats by default since 0.4.0. Please remove these keys from state_dict. If the running stats are actually needed, instead set track_running_stats=True in InstanceNorm2d to enable them. See the documentation of InstanceNorm2d for details.\n\tUnexpected running stats buffer(s) \"model.5.running_mean\" and \"model.5.running_var\" for InstanceNorm2d with track_running_stats=False. If state_dict is a checkpoint saved before 0.4.0, this may be expected because InstanceNorm2d does not track running stats by default since 0.4.0. Please remove these keys from state_dict. If the running stats are actually needed, instead set track_running_stats=True in InstanceNorm2d to enable them. See the documentation of InstanceNorm2d for details.\n\tUnexpected running stats buffer(s) \"model.8.running_mean\" and \"model.8.running_var\" for InstanceNorm2d with track_running_stats=False. If state_dict is a checkpoint saved before 0.4.0, this may be expected because InstanceNorm2d does not track running stats by default since 0.4.0. Please remove these keys from state_dict. If the running stats are actually needed, instead set track_running_stats=True in InstanceNorm2d to enable them. See the documentation of InstanceNorm2d for details.\n\tUnexpected running stats buffer(s) \"model.10.conv_block.2.running_mean\" and \"model.10.conv_block.2.running_var\" for InstanceNorm2d with track_running_stats=False. If state_dict is a checkpoint saved before 0.4.0, this may be expected because InstanceNorm2d does not track running stats by default since 0.4.0. Please remove these keys from state_dict. If the running stats are actually needed, instead set track_running_stats=True in InstanceNorm2d to enable them. See the documentation of InstanceNorm2d for details.\n\tUnexpected running stats buffer(s) \"model.10.conv_block.7.running_mean\" and \"model.10.conv_block.7.running_var\" for InstanceNorm2d with track_running_stats=False. If state_dict is a checkpoint saved before 0.4.0, this may be expected because InstanceNorm2d does not track running stats by default since 0.4.0. Please remove these keys from state_dict. If the running stats are actually needed, instead set track_running_stats=True in InstanceNorm2d to enable them. See the documentation of InstanceNorm2d for details.\n\tUnexpected running stats buffer(s) \"model.11.conv_block.2.running_mean\" and \"model.11.conv_block.2.running_var\" for InstanceNorm2d with track_running_stats=False. If state_dict is a checkpoint saved before 0.4.0, this may be expected because InstanceNorm2d does not track running stats by default since 0.4.0. Please remove these keys from state_dict. If the running stats are actually needed, instead set track_running_stats=True in InstanceNorm2d to enable them. See the documentation of InstanceNorm2d for details.\n\tUnexpected running stats buffer(s) \"model.11.conv_block.7.running_mean\" and \"model.11.conv_block.7.running_var\" for InstanceNorm2d with track_running_stats=False. If state_dict is a checkpoint saved before 0.4.0, this may be expected because InstanceNorm2d does not track running stats by default since 0.4.0. Please remove these keys from state_dict. If the running stats are actually needed, instead set track_running_stats=True in InstanceNorm2d to enable them. See the documentation of InstanceNorm2d for details.\n\tUnexpected running stats buffer(s) \"model.12.conv_block.2.running_mean\" and \"model.12.conv_block.2.running_var\" for InstanceNorm2d with track_running_stats=False. If state_dict is a checkpoint saved before 0.4.0, this may be expected because InstanceNorm2d does not track running stats by default since 0.4.0. Please remove these keys from state_dict. If the running stats are actually needed, instead set track_running_stats=True in InstanceNorm2d to enable them. See the documentation of InstanceNorm2d for details.\n\tUnexpected running stats buffer(s) \"model.12.conv_block.7.running_mean\" and \"model.12.conv_block.7.running_var\" for InstanceNorm2d with track_running_stats=False. If state_dict is a checkpoint saved before 0.4.0, this may be expected because InstanceNorm2d does not track running stats by default since 0.4.0. Please remove these keys from state_dict. If the running stats are actually needed, instead set track_running_stats=True in InstanceNorm2d to enable them. See the documentation of InstanceNorm2d for details.\n\tUnexpected running stats buffer(s) \"model.13.conv_block.2.running_mean\" and \"model.13.conv_block.2.running_var\" for InstanceNorm2d with track_running_stats=False. If state_dict is a checkpoint saved before 0.4.0, this may be expected because InstanceNorm2d does not track running stats by default since 0.4.0. Please remove these keys from state_dict. If the running stats are actually needed, instead set track_running_stats=True in InstanceNorm2d to enable them. See the documentation of InstanceNorm2d for details.\n\tUnexpected running stats buffer(s) \"model.13.conv_block.7.running_mean\" and \"model.13.conv_block.7.running_var\" for InstanceNorm2d with track_running_stats=False. If state_dict is a checkpoint saved before 0.4.0, this may be expected because InstanceNorm2d does not track running stats by default since 0.4.0. Please remove these keys from state_dict. If the running stats are actually needed, instead set track_running_stats=True in InstanceNorm2d to enable them. See the documentation of InstanceNorm2d for details.\n\tUnexpected running stats buffer(s) \"model.14.conv_block.2.running_mean\" and \"model.14.conv_block.2.running_var\" for InstanceNorm2d with track_running_stats=False. If state_dict is a checkpoint saved before 0.4.0, this may be expected because InstanceNorm2d does not track running stats by default since 0.4.0. Please remove these keys from state_dict. If the running stats are actually needed, instead set track_running_stats=True in InstanceNorm2d to enable them. See the documentation of InstanceNorm2d for details.\n\tUnexpected running stats buffer(s) \"model.14.conv_block.7.running_mean\" and \"model.14.conv_block.7.running_var\" for InstanceNorm2d with track_running_stats=False. If state_dict is a checkpoint saved before 0.4.0, this may be expected because InstanceNorm2d does not track running stats by default since 0.4.0. Please remove these keys from state_dict. If the running stats are actually needed, instead set track_running_stats=True in InstanceNorm2d to enable them. See the documentation of InstanceNorm2d for details.\n\tUnexpected running stats buffer(s) \"model.15.conv_block.2.running_mean\" and \"model.15.conv_block.2.running_var\" for InstanceNorm2d with track_running_stats=False. If state_dict is a checkpoint saved before 0.4.0, this may be expected because InstanceNorm2d does not track running stats by default since 0.4.0. Please remove these keys from state_dict. If the running stats are actually needed, instead set track_running_stats=True in InstanceNorm2d to enable them. See the documentation of InstanceNorm2d for details.\n\tUnexpected running stats buffer(s) \"model.15.conv_block.7.running_mean\" and \"model.15.conv_block.7.running_var\" for InstanceNorm2d with track_running_stats=False. If state_dict is a checkpoint saved before 0.4.0, this may be expected because InstanceNorm2d does not track running stats by default since 0.4.0. Please remove these keys from state_dict. If the running stats are actually needed, instead set track_running_stats=True in InstanceNorm2d to enable them. See the documentation of InstanceNorm2d for details.\n\tUnexpected running stats buffer(s) \"model.16.conv_block.2.running_mean\" and \"model.16.conv_block.2.running_var\" for InstanceNorm2d with track_running_stats=False. If state_dict is a checkpoint saved before 0.4.0, this may be expected because InstanceNorm2d does not track running stats by default since 0.4.0. Please remove these keys from state_dict. If the running stats are actually needed, instead set track_running_stats=True in InstanceNorm2d to enable them. See the documentation of InstanceNorm2d for details.\n\tUnexpected running stats buffer(s) \"model.16.conv_block.7.running_mean\" and \"model.16.conv_block.7.running_var\" for InstanceNorm2d with track_running_stats=False. If state_dict is a checkpoint saved before 0.4.0, this may be expected because InstanceNorm2d does not track running stats by default since 0.4.0. Please remove these keys from state_dict. If the running stats are actually needed, instead set track_running_stats=True in InstanceNorm2d to enable them. See the documentation of InstanceNorm2d for details.\n\tUnexpected running stats buffer(s) \"model.17.conv_block.2.running_mean\" and \"model.17.conv_block.2.running_var\" for InstanceNorm2d with track_running_stats=False. If state_dict is a checkpoint saved before 0.4.0, this may be expected because InstanceNorm2d does not track running stats by default since 0.4.0. Please remove these keys from state_dict. If the running stats are actually needed, instead set track_running_stats=True in InstanceNorm2d to enable them. See the documentation of InstanceNorm2d for details.\n\tUnexpected running stats buffer(s) \"model.17.conv_block.7.running_mean\" and \"model.17.conv_block.7.running_var\" for InstanceNorm2d with track_running_stats=False. If state_dict is a checkpoint saved before 0.4.0, this may be expected because InstanceNorm2d does not track running stats by default since 0.4.0. Please remove these keys from state_dict. If the running stats are actually needed, instead set track_running_stats=True in InstanceNorm2d to enable them. See the documentation of InstanceNorm2d for details.\n\tUnexpected running stats buffer(s) \"model.18.conv_block.2.running_mean\" and \"model.18.conv_block.2.running_var\" for InstanceNorm2d with track_running_stats=False. If state_dict is a checkpoint saved before 0.4.0, this may be expected because InstanceNorm2d does not track running stats by default since 0.4.0. Please remove these keys from state_dict. If the running stats are actually needed, instead set track_running_stats=True in InstanceNorm2d to enable them. See the documentation of InstanceNorm2d for details.\n\tUnexpected running stats buffer(s) \"model.18.conv_block.7.running_mean\" and \"model.18.conv_block.7.running_var\" for InstanceNorm2d with track_running_stats=False. If state_dict is a checkpoint saved before 0.4.0, this may be expected because InstanceNorm2d does not track running stats by default since 0.4.0. Please remove these keys from state_dict. If the running stats are actually needed, instead set track_running_stats=True in InstanceNorm2d to enable them. See the documentation of InstanceNorm2d for details.\n\tUnexpected running stats buffer(s) \"model.20.running_mean\" and \"model.20.running_var\" for InstanceNorm2d with track_running_stats=False. If state_dict is a checkpoint saved before 0.4.0, this may be expected because InstanceNorm2d does not track running stats by default since 0.4.0. Please remove these keys from state_dict. If the running stats are actually needed, instead set track_running_stats=True in InstanceNorm2d to enable them. See the documentation of InstanceNorm2d for details.\n\tUnexpected running stats buffer(s) \"model.23.running_mean\" and \"model.23.running_var\" for InstanceNorm2d with track_running_stats=False. If state_dict is a checkpoint saved before 0.4.0, this may be expected because InstanceNorm2d does not track running stats by default since 0.4.0. Please remove these keys from state_dict. If the running stats are actually needed, instead set track_running_stats=True in InstanceNorm2d to enable them. See the documentation of InstanceNorm2d for details.",
     "output_type": "error",
     "traceback": [
      "\u001b[0;31m---------------------------------------------------------------------------\u001b[0m",
      "\u001b[0;31mRuntimeError\u001b[0m                              Traceback (most recent call last)",
      "Cell \u001b[0;32mIn[7], line 19\u001b[0m\n\u001b[1;32m     12\u001b[0m     \u001b[38;5;28;01mdel\u001b[39;00m state_dict\u001b[38;5;241m.\u001b[39m_metadata\n\u001b[1;32m     14\u001b[0m \u001b[38;5;66;03m# # patch InstanceNorm checkpoints prior to 0.4\u001b[39;00m\n\u001b[1;32m     15\u001b[0m \u001b[38;5;66;03m# for key in list(state_dict.keys()):  # need to copy keys here because we mutate in loop\u001b[39;00m\n\u001b[1;32m     16\u001b[0m \u001b[38;5;66;03m#     self.__patch_instance_norm_state_dict(state_dict, net, key.split('.'))\u001b[39;00m\n\u001b[0;32m---> 19\u001b[0m \u001b[43mnet_G__\u001b[49m\u001b[38;5;241;43m.\u001b[39;49m\u001b[43mload_state_dict\u001b[49m\u001b[43m(\u001b[49m\u001b[43mstate_dict\u001b[49m\u001b[43m,\u001b[49m\u001b[43m \u001b[49m\u001b[43mstrict\u001b[49m\u001b[38;5;241;43m=\u001b[39;49m\u001b[38;5;28;43;01mFalse\u001b[39;49;00m\u001b[43m)\u001b[49m\n\u001b[1;32m     21\u001b[0m \u001b[38;5;66;03m# net_G.load_state_dict(torch.load(state_dict))\u001b[39;00m\n",
      "File \u001b[0;32m~/.pyenv/versions/3.8.18/envs/general_env/lib/python3.8/site-packages/torch/nn/modules/module.py:2189\u001b[0m, in \u001b[0;36mModule.load_state_dict\u001b[0;34m(self, state_dict, strict, assign)\u001b[0m\n\u001b[1;32m   2184\u001b[0m         error_msgs\u001b[38;5;241m.\u001b[39minsert(\n\u001b[1;32m   2185\u001b[0m             \u001b[38;5;241m0\u001b[39m, \u001b[38;5;124m'\u001b[39m\u001b[38;5;124mMissing key(s) in state_dict: \u001b[39m\u001b[38;5;132;01m{}\u001b[39;00m\u001b[38;5;124m. \u001b[39m\u001b[38;5;124m'\u001b[39m\u001b[38;5;241m.\u001b[39mformat(\n\u001b[1;32m   2186\u001b[0m                 \u001b[38;5;124m'\u001b[39m\u001b[38;5;124m, \u001b[39m\u001b[38;5;124m'\u001b[39m\u001b[38;5;241m.\u001b[39mjoin(\u001b[38;5;124mf\u001b[39m\u001b[38;5;124m'\u001b[39m\u001b[38;5;124m\"\u001b[39m\u001b[38;5;132;01m{\u001b[39;00mk\u001b[38;5;132;01m}\u001b[39;00m\u001b[38;5;124m\"\u001b[39m\u001b[38;5;124m'\u001b[39m \u001b[38;5;28;01mfor\u001b[39;00m k \u001b[38;5;129;01min\u001b[39;00m missing_keys)))\n\u001b[1;32m   2188\u001b[0m \u001b[38;5;28;01mif\u001b[39;00m \u001b[38;5;28mlen\u001b[39m(error_msgs) \u001b[38;5;241m>\u001b[39m \u001b[38;5;241m0\u001b[39m:\n\u001b[0;32m-> 2189\u001b[0m     \u001b[38;5;28;01mraise\u001b[39;00m \u001b[38;5;167;01mRuntimeError\u001b[39;00m(\u001b[38;5;124m'\u001b[39m\u001b[38;5;124mError(s) in loading state_dict for \u001b[39m\u001b[38;5;132;01m{}\u001b[39;00m\u001b[38;5;124m:\u001b[39m\u001b[38;5;130;01m\\n\u001b[39;00m\u001b[38;5;130;01m\\t\u001b[39;00m\u001b[38;5;132;01m{}\u001b[39;00m\u001b[38;5;124m'\u001b[39m\u001b[38;5;241m.\u001b[39mformat(\n\u001b[1;32m   2190\u001b[0m                        \u001b[38;5;28mself\u001b[39m\u001b[38;5;241m.\u001b[39m\u001b[38;5;18m__class__\u001b[39m\u001b[38;5;241m.\u001b[39m\u001b[38;5;18m__name__\u001b[39m, \u001b[38;5;124m\"\u001b[39m\u001b[38;5;130;01m\\n\u001b[39;00m\u001b[38;5;130;01m\\t\u001b[39;00m\u001b[38;5;124m\"\u001b[39m\u001b[38;5;241m.\u001b[39mjoin(error_msgs)))\n\u001b[1;32m   2191\u001b[0m \u001b[38;5;28;01mreturn\u001b[39;00m _IncompatibleKeys(missing_keys, unexpected_keys)\n",
      "\u001b[0;31mRuntimeError\u001b[0m: Error(s) in loading state_dict for ResnetGenerator:\n\tUnexpected running stats buffer(s) \"model.2.running_mean\" and \"model.2.running_var\" for InstanceNorm2d with track_running_stats=False. If state_dict is a checkpoint saved before 0.4.0, this may be expected because InstanceNorm2d does not track running stats by default since 0.4.0. Please remove these keys from state_dict. If the running stats are actually needed, instead set track_running_stats=True in InstanceNorm2d to enable them. See the documentation of InstanceNorm2d for details.\n\tUnexpected running stats buffer(s) \"model.5.running_mean\" and \"model.5.running_var\" for InstanceNorm2d with track_running_stats=False. If state_dict is a checkpoint saved before 0.4.0, this may be expected because InstanceNorm2d does not track running stats by default since 0.4.0. Please remove these keys from state_dict. If the running stats are actually needed, instead set track_running_stats=True in InstanceNorm2d to enable them. See the documentation of InstanceNorm2d for details.\n\tUnexpected running stats buffer(s) \"model.8.running_mean\" and \"model.8.running_var\" for InstanceNorm2d with track_running_stats=False. If state_dict is a checkpoint saved before 0.4.0, this may be expected because InstanceNorm2d does not track running stats by default since 0.4.0. Please remove these keys from state_dict. If the running stats are actually needed, instead set track_running_stats=True in InstanceNorm2d to enable them. See the documentation of InstanceNorm2d for details.\n\tUnexpected running stats buffer(s) \"model.10.conv_block.2.running_mean\" and \"model.10.conv_block.2.running_var\" for InstanceNorm2d with track_running_stats=False. If state_dict is a checkpoint saved before 0.4.0, this may be expected because InstanceNorm2d does not track running stats by default since 0.4.0. Please remove these keys from state_dict. If the running stats are actually needed, instead set track_running_stats=True in InstanceNorm2d to enable them. See the documentation of InstanceNorm2d for details.\n\tUnexpected running stats buffer(s) \"model.10.conv_block.7.running_mean\" and \"model.10.conv_block.7.running_var\" for InstanceNorm2d with track_running_stats=False. If state_dict is a checkpoint saved before 0.4.0, this may be expected because InstanceNorm2d does not track running stats by default since 0.4.0. Please remove these keys from state_dict. If the running stats are actually needed, instead set track_running_stats=True in InstanceNorm2d to enable them. See the documentation of InstanceNorm2d for details.\n\tUnexpected running stats buffer(s) \"model.11.conv_block.2.running_mean\" and \"model.11.conv_block.2.running_var\" for InstanceNorm2d with track_running_stats=False. If state_dict is a checkpoint saved before 0.4.0, this may be expected because InstanceNorm2d does not track running stats by default since 0.4.0. Please remove these keys from state_dict. If the running stats are actually needed, instead set track_running_stats=True in InstanceNorm2d to enable them. See the documentation of InstanceNorm2d for details.\n\tUnexpected running stats buffer(s) \"model.11.conv_block.7.running_mean\" and \"model.11.conv_block.7.running_var\" for InstanceNorm2d with track_running_stats=False. If state_dict is a checkpoint saved before 0.4.0, this may be expected because InstanceNorm2d does not track running stats by default since 0.4.0. Please remove these keys from state_dict. If the running stats are actually needed, instead set track_running_stats=True in InstanceNorm2d to enable them. See the documentation of InstanceNorm2d for details.\n\tUnexpected running stats buffer(s) \"model.12.conv_block.2.running_mean\" and \"model.12.conv_block.2.running_var\" for InstanceNorm2d with track_running_stats=False. If state_dict is a checkpoint saved before 0.4.0, this may be expected because InstanceNorm2d does not track running stats by default since 0.4.0. Please remove these keys from state_dict. If the running stats are actually needed, instead set track_running_stats=True in InstanceNorm2d to enable them. See the documentation of InstanceNorm2d for details.\n\tUnexpected running stats buffer(s) \"model.12.conv_block.7.running_mean\" and \"model.12.conv_block.7.running_var\" for InstanceNorm2d with track_running_stats=False. If state_dict is a checkpoint saved before 0.4.0, this may be expected because InstanceNorm2d does not track running stats by default since 0.4.0. Please remove these keys from state_dict. If the running stats are actually needed, instead set track_running_stats=True in InstanceNorm2d to enable them. See the documentation of InstanceNorm2d for details.\n\tUnexpected running stats buffer(s) \"model.13.conv_block.2.running_mean\" and \"model.13.conv_block.2.running_var\" for InstanceNorm2d with track_running_stats=False. If state_dict is a checkpoint saved before 0.4.0, this may be expected because InstanceNorm2d does not track running stats by default since 0.4.0. Please remove these keys from state_dict. If the running stats are actually needed, instead set track_running_stats=True in InstanceNorm2d to enable them. See the documentation of InstanceNorm2d for details.\n\tUnexpected running stats buffer(s) \"model.13.conv_block.7.running_mean\" and \"model.13.conv_block.7.running_var\" for InstanceNorm2d with track_running_stats=False. If state_dict is a checkpoint saved before 0.4.0, this may be expected because InstanceNorm2d does not track running stats by default since 0.4.0. Please remove these keys from state_dict. If the running stats are actually needed, instead set track_running_stats=True in InstanceNorm2d to enable them. See the documentation of InstanceNorm2d for details.\n\tUnexpected running stats buffer(s) \"model.14.conv_block.2.running_mean\" and \"model.14.conv_block.2.running_var\" for InstanceNorm2d with track_running_stats=False. If state_dict is a checkpoint saved before 0.4.0, this may be expected because InstanceNorm2d does not track running stats by default since 0.4.0. Please remove these keys from state_dict. If the running stats are actually needed, instead set track_running_stats=True in InstanceNorm2d to enable them. See the documentation of InstanceNorm2d for details.\n\tUnexpected running stats buffer(s) \"model.14.conv_block.7.running_mean\" and \"model.14.conv_block.7.running_var\" for InstanceNorm2d with track_running_stats=False. If state_dict is a checkpoint saved before 0.4.0, this may be expected because InstanceNorm2d does not track running stats by default since 0.4.0. Please remove these keys from state_dict. If the running stats are actually needed, instead set track_running_stats=True in InstanceNorm2d to enable them. See the documentation of InstanceNorm2d for details.\n\tUnexpected running stats buffer(s) \"model.15.conv_block.2.running_mean\" and \"model.15.conv_block.2.running_var\" for InstanceNorm2d with track_running_stats=False. If state_dict is a checkpoint saved before 0.4.0, this may be expected because InstanceNorm2d does not track running stats by default since 0.4.0. Please remove these keys from state_dict. If the running stats are actually needed, instead set track_running_stats=True in InstanceNorm2d to enable them. See the documentation of InstanceNorm2d for details.\n\tUnexpected running stats buffer(s) \"model.15.conv_block.7.running_mean\" and \"model.15.conv_block.7.running_var\" for InstanceNorm2d with track_running_stats=False. If state_dict is a checkpoint saved before 0.4.0, this may be expected because InstanceNorm2d does not track running stats by default since 0.4.0. Please remove these keys from state_dict. If the running stats are actually needed, instead set track_running_stats=True in InstanceNorm2d to enable them. See the documentation of InstanceNorm2d for details.\n\tUnexpected running stats buffer(s) \"model.16.conv_block.2.running_mean\" and \"model.16.conv_block.2.running_var\" for InstanceNorm2d with track_running_stats=False. If state_dict is a checkpoint saved before 0.4.0, this may be expected because InstanceNorm2d does not track running stats by default since 0.4.0. Please remove these keys from state_dict. If the running stats are actually needed, instead set track_running_stats=True in InstanceNorm2d to enable them. See the documentation of InstanceNorm2d for details.\n\tUnexpected running stats buffer(s) \"model.16.conv_block.7.running_mean\" and \"model.16.conv_block.7.running_var\" for InstanceNorm2d with track_running_stats=False. If state_dict is a checkpoint saved before 0.4.0, this may be expected because InstanceNorm2d does not track running stats by default since 0.4.0. Please remove these keys from state_dict. If the running stats are actually needed, instead set track_running_stats=True in InstanceNorm2d to enable them. See the documentation of InstanceNorm2d for details.\n\tUnexpected running stats buffer(s) \"model.17.conv_block.2.running_mean\" and \"model.17.conv_block.2.running_var\" for InstanceNorm2d with track_running_stats=False. If state_dict is a checkpoint saved before 0.4.0, this may be expected because InstanceNorm2d does not track running stats by default since 0.4.0. Please remove these keys from state_dict. If the running stats are actually needed, instead set track_running_stats=True in InstanceNorm2d to enable them. See the documentation of InstanceNorm2d for details.\n\tUnexpected running stats buffer(s) \"model.17.conv_block.7.running_mean\" and \"model.17.conv_block.7.running_var\" for InstanceNorm2d with track_running_stats=False. If state_dict is a checkpoint saved before 0.4.0, this may be expected because InstanceNorm2d does not track running stats by default since 0.4.0. Please remove these keys from state_dict. If the running stats are actually needed, instead set track_running_stats=True in InstanceNorm2d to enable them. See the documentation of InstanceNorm2d for details.\n\tUnexpected running stats buffer(s) \"model.18.conv_block.2.running_mean\" and \"model.18.conv_block.2.running_var\" for InstanceNorm2d with track_running_stats=False. If state_dict is a checkpoint saved before 0.4.0, this may be expected because InstanceNorm2d does not track running stats by default since 0.4.0. Please remove these keys from state_dict. If the running stats are actually needed, instead set track_running_stats=True in InstanceNorm2d to enable them. See the documentation of InstanceNorm2d for details.\n\tUnexpected running stats buffer(s) \"model.18.conv_block.7.running_mean\" and \"model.18.conv_block.7.running_var\" for InstanceNorm2d with track_running_stats=False. If state_dict is a checkpoint saved before 0.4.0, this may be expected because InstanceNorm2d does not track running stats by default since 0.4.0. Please remove these keys from state_dict. If the running stats are actually needed, instead set track_running_stats=True in InstanceNorm2d to enable them. See the documentation of InstanceNorm2d for details.\n\tUnexpected running stats buffer(s) \"model.20.running_mean\" and \"model.20.running_var\" for InstanceNorm2d with track_running_stats=False. If state_dict is a checkpoint saved before 0.4.0, this may be expected because InstanceNorm2d does not track running stats by default since 0.4.0. Please remove these keys from state_dict. If the running stats are actually needed, instead set track_running_stats=True in InstanceNorm2d to enable them. See the documentation of InstanceNorm2d for details.\n\tUnexpected running stats buffer(s) \"model.23.running_mean\" and \"model.23.running_var\" for InstanceNorm2d with track_running_stats=False. If state_dict is a checkpoint saved before 0.4.0, this may be expected because InstanceNorm2d does not track running stats by default since 0.4.0. Please remove these keys from state_dict. If the running stats are actually needed, instead set track_running_stats=True in InstanceNorm2d to enable them. See the documentation of InstanceNorm2d for details."
     ]
    }
   ],
   "source": [
    "if isinstance(net_G, torch.nn.DataParallel):\n",
    "    net_G__ = net_G.module\n",
    "\n",
    "# state_dict = torch.load(load_path, map_location=str(self.device))\n",
    "\n",
    "# torch.cuda.is_available()\n",
    "model_G_dir = \"/home/yen/code/yen/pytorch-CycleGAN-and-pix2pix/checkpoints/new_data_0620_DQN0_netD1_origin/latest_net_G.pth\"\n",
    "\n",
    "state_dict = torch.load(model_G_dir, map_location=\"cuda\")\n",
    "\n",
    "if hasattr(state_dict, '_metadata'):\n",
    "    del state_dict._metadata\n",
    "\n",
    "# # patch InstanceNorm checkpoints prior to 0.4\n",
    "# for key in list(state_dict.keys()):  # need to copy keys here because we mutate in loop\n",
    "#     self.__patch_instance_norm_state_dict(state_dict, net, key.split('.'))\n",
    "\n",
    "\n",
    "net_G__.load_state_dict(state_dict, strict=False)\n",
    "\n",
    "# net_G.load_state_dict(torch.load(state_dict))"
   ]
  },
  {
   "cell_type": "code",
   "execution_count": 16,
   "metadata": {},
   "outputs": [
    {
     "data": {
      "text/plain": [
       "True"
      ]
     },
     "execution_count": 16,
     "metadata": {},
     "output_type": "execute_result"
    }
   ],
   "source": [
    "isinstance(net_G, torch.nn.DataParallel)"
   ]
  },
  {
   "cell_type": "code",
   "execution_count": 3,
   "metadata": {},
   "outputs": [],
   "source": [
    "# opt = TestOptions().parse()  # get test options\n"
   ]
  },
  {
   "cell_type": "code",
   "execution_count": 11,
   "metadata": {},
   "outputs": [
    {
     "name": "stdout",
     "output_type": "stream",
     "text": [
      "G_GAN_G_L1_G_RL_L1\n",
      "G_GAN+G_L1+G_RL_L1\n",
      "--\n",
      "G_GAN_G_L1_G_RL_L1\n",
      "G_GAN+G_L1+G_RL_L1\n",
      "--\n",
      "G_GAN_G_L1_G_RL_norm\n",
      "G_GAN+G_L1+G_RL_norm\n",
      "--\n",
      "G_GAN_G_L1_G_RL_norm\n",
      "G_GAN+G_L1+G_RL_norm\n",
      "--\n",
      "G_GAN_G_L1_G_RL_cos\n",
      "G_GAN+G_L1+G_RL_cos\n",
      "--\n",
      "G_GAN_G_L1_G_RL_cos\n",
      "G_GAN+G_L1+G_RL_cos\n",
      "--\n"
     ]
    }
   ],
   "source": [
    "model_prefix = \"G_GAN\"\n",
    "G_L1_list = [\"G_L1\", \"\"]\n",
    "gan_loss_list = [\"G_RL_L1\", \"G_RL_norm\", \"G_RL_cos\"]\n",
    "\n",
    "for gan_loss in gan_loss_list:\n",
    "    for G_L1 in G_L1_list:\n",
    "        if G_L1 == \"G_L1\":\n",
    "            desh_G_L1 = f\"_{G_L1}\"\n",
    "            plus_G_L1 = f\"+{G_L1}\"\n",
    "        model_name = f\"{model_prefix}{desh_G_L1}_{gan_loss}\"\n",
    "        print(model_name)\n",
    "        GAN_loss_set = f\"{model_prefix}{plus_G_L1}+{gan_loss}\"\n",
    "        print(GAN_loss_set)\n",
    "        print(\"--\")"
   ]
  }
 ],
 "metadata": {
  "kernelspec": {
   "display_name": "general_env",
   "language": "python",
   "name": "python3"
  },
  "language_info": {
   "codemirror_mode": {
    "name": "ipython",
    "version": 3
   },
   "file_extension": ".py",
   "mimetype": "text/x-python",
   "name": "python",
   "nbconvert_exporter": "python",
   "pygments_lexer": "ipython3",
   "version": "3.8.18"
  }
 },
 "nbformat": 4,
 "nbformat_minor": 2
}
